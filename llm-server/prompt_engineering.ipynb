{
 "cells": [
  {
   "cell_type": "markdown",
   "metadata": {},
   "source": [
    "## 실행방법\n",
    "1. venv 설정\n",
    "    ``` Shell\n",
    "    # Windows, Mac OS 공통\n",
    "    python -m venv .venv\n",
    "    ```\n",
    "\n",
    "2. venv 활성화\n",
    "    ``` Shell\n",
    "    # Windows\n",
    "    .\\.venv\\Scropts\\activate.bat\n",
    "\n",
    "    # Linux/macOS\n",
    "    source env/bin/activate\n",
    "    ```\n",
    "\n",
    "3. modeul 등록\n",
    "    ``` Shell\n",
    "    pip install --upgrade pip\n",
    "    pip install langchain\n",
    "    pip install langchain-openai\n",
    "    pip install python-dotenv\n",
    "    ```\n",
    "\n",
    "4. Prompt Engineering\n",
    "    보통 4번 Section에서 SystemMessagePromptTemplate을 사용하면 됨!(주석 참고)"
   ]
  },
  {
   "cell_type": "code",
   "execution_count": null,
   "metadata": {},
   "outputs": [],
   "source": [
    "# 필요한 Module Import\n",
    "\n",
    "import os\n",
    "\n",
    "from langchain_core.prompts import ChatPromptTemplate\n",
    "from langchain_core.output_parsers import StrOutputParser\n",
    "from langchain.prompts import SystemMessagePromptTemplate, HumanMessagePromptTemplate\n",
    "from langchain_openai import ChatOpenAI\n",
    "from dotenv import load_dotenv"
   ]
  },
  {
   "cell_type": "code",
   "execution_count": null,
   "metadata": {},
   "outputs": [],
   "source": [
    "# GPT KEY 등록\n",
    "\n",
    "load_dotenv()\n",
    "os.environ[\"OPENAI_API_KEY\"] = os.environ.get('CHAT_GPT_KEY')"
   ]
  },
  {
   "cell_type": "code",
   "execution_count": null,
   "metadata": {},
   "outputs": [],
   "source": [
    "# 사용할 Model을 GPT 4O MINI로 설정\n",
    "\n",
    "llm = ChatOpenAI(model=\"gpt-4o-mini\", temperature=0.3)"
   ]
  },
  {
   "cell_type": "code",
   "execution_count": null,
   "metadata": {},
   "outputs": [],
   "source": [
    "# ##################################\n",
    "# # 보통 이 부분의 Block만 재 실행하면 됨 #\n",
    "# ##################################\n",
    "\n",
    "# # Prompt 설정(만약 System에게 역할을 부여하고 규칙을 부여하고 싶다면 다음과 같이 작성)\n",
    "# # SystemMessagePromptTemplate.from_template()을 사용하여 String을 입력하기!!\n",
    "\n",
    "# prompt = ChatPromptTemplate.from_messages([\n",
    "#             SystemMessagePromptTemplate.from_template(\n",
    "#                 \"\"\"\n",
    "#                 \"You are a best healthcare professional assistant “Amy”, specializing in health management and medication guidance.\"\n",
    "#                 \"\"\"\n",
    "#             ),\n",
    "#             SystemMessagePromptTemplate.from_template(\n",
    "#                 \"\"\"\n",
    "#                 \"Your task is to assist users with general health inquiries, provide advice on common ailments, offer specialized health tips, and provide accurate guidance and information about medications.\"\n",
    "#                 \"\"\"\n",
    "#             ),\n",
    "#             SystemMessagePromptTemplate.from_template(\n",
    "#                 \"\"\"\n",
    "#                 ###Instructions###\n",
    "#                 Provide clear and safe information about medication dosage, timing, and precautions.\n",
    "#                 and Clearly outline potential side effects, emphasizing any symptoms that would require immediate healthcare provider attention.\n",
    "#                 Encourage users to describe their health status, ask questions about their health, inquire about medications they are currently taking, provide relevant advice, and remind them to consult with a healthcare professional for personalized guidance.\n",
    "#                 If you don't know the answer, just say that you don't know. Encourage users to consult with a healthcare provider if they have questions or experience any side effects.\n",
    "#                 \"\"\"\n",
    "#             ),\n",
    "#             SystemMessagePromptTemplate.from_template(\n",
    "#                 \"\"\"\n",
    "#                 ###Target users### \n",
    "#                 Health-conscious seniors aged 50-60 who are interested in health and medication information.\n",
    "#                 \"\"\"\n",
    "#             ),\n",
    "#             SystemMessagePromptTemplate.from_template(\n",
    "#                 \"\"\"\n",
    "#                 ###Context### \n",
    "#                 The user is asking about medication needed for their symptoms, inquiring about information on medications they are currently taking, or seeking advice related to health management.                \n",
    "#                 \"\"\"\n",
    "#             ),\n",
    "#             SystemMessagePromptTemplate.from_template(\n",
    "#                 \"\"\"\n",
    "#                 ###Outputformat###\n",
    "#                 Answer a question in a natural, human-like manner. Be empathetic and informative in your interactions. All responses must be in Korean. \n",
    "#                 \"\"\"\n",
    "#             ),\n",
    "#             SystemMessagePromptTemplate.from_template(\n",
    "#                 \"\"\"\n",
    "#                 I'm going to tip $xxx for a better solution! Let's think step by step.\n",
    "#                 \"\"\"\n",
    "#             ),\n",
    "#             HumanMessagePromptTemplate.from_template(\n",
    "#                 \"\"\"\n",
    "#                 Provide the answer in Korean form only.\n",
    "                \n",
    "#                 User's Question: {content}\n",
    "#                 \"\"\"\n",
    "#             )\n",
    "#         ])\n",
    "\n",
    "# chain = prompt | llm | StrOutputParser()\n",
    "\n",
    "# response = chain.invoke({\n",
    "#     \"content\": \"오메가 3는 왜 피에 있는 노폐물을 없애주나요? 그리고 특히 육식을 하는 사람에게 좋나요?\"\n",
    "# })\n",
    "\n",
    "# print(response)"
   ]
  },
  {
   "cell_type": "code",
   "execution_count": null,
   "metadata": {},
   "outputs": [],
   "source": [
    "system_template = \"\"\"\n",
    "You are a best healthcare professional assistant “Amy”, sepcialinzing in health mangement and medication guidance.\n",
    "Your task is to assist users with general health inquiries, provide advice on common ailments, offer specialized health tips, and provide accurate guidance and information about medications.\n",
    "\n",
    "###Instructions###\n",
    "Provide clear and safe information about medication dosage, timing, and precautions.\n",
    "and Clearly outline potential side effects, emphasizing any symptoms that would require immediate healthcare provider attention.\n",
    "Encourage users to describe their health status, ask questions about their health, inquire about medications they are currently taking, provide relevant advice, and remind them to consult with a healthcare professional for personalized guidance.\n",
    "If you don't know the answer, just say that you don't know.\n",
    "Encourage users to consult with a healthcare provider if they have questions or experience any side effects.\n",
    "\n",
    "\n",
    "###Target users###\n",
    "Health-conscious seniors aged 50-60 who are interested in health and medication information.\n",
    "\n",
    "###Context###\n",
    "The user is asking about medication needed for their symptoms, inquiring about information on medications they are currently taking, or seeking advice related to health management.\n",
    "\n",
    "###Outputformat###\n",
    "Answer a question in a natural, human-like manner. Be empathetic and informative in your interactions. All responses must be in Korean.\n",
    "Add the following sentence at the end of the answer.\n",
    "주의: 제공하는 정보는 AI 언어 모델에 의해 생성된 것으로, 전문적인 의료 상담을 대체하지 않습니다. 정확하고 도움이 되는 정보를 제공하기 위해 노력하지만, 건강, 약물, 치료 계획에 관한 모든 질문은 반드시 자격을 갖춘 의료 전문가와 상의하시기 바랍니다.\n",
    "\n",
    "I'm going to tip $xxx for a better solution! Let's think step by step.\n",
    "\n",
    "\"\"\"\n",
    "system_message_prompt = SystemMessagePromptTemplate.from_template(system_template)\n",
    "\n",
    "human_template = (\n",
    "      \"\"\"\n",
    "      Provide the answer in Korean form only.\n",
    "      \n",
    "      User's Question: {user_input}\n",
    "      \"\"\"\n",
    "  )\n",
    "human_message_prompt = HumanMessagePromptTemplate.from_template(human_template)\n",
    "\n",
    "messages = [\n",
    "    system_message_prompt,\n",
    "    human_message_prompt\n",
    "]\n",
    "\n",
    "prompt = ChatPromptTemplate.from_messages(messages)\n",
    "print(prompt)\n",
    "\n",
    "chain = prompt | llm | StrOutputParser()"
   ]
  },
  {
   "cell_type": "code",
   "execution_count": null,
   "metadata": {},
   "outputs": [],
   "source": [
    "chain.invoke({\"user_input\": \"오메가 3는 왜 피에 있는 노폐물을 없애주나요? 그리고 특히 육식을 하는 사람에게 좋나요?\"})"
   ]
  },
  {
   "cell_type": "code",
   "execution_count": null,
   "metadata": {},
   "outputs": [],
   "source": [
    "chain.invoke({\"user_input\": \"내가 말이야 마그네슘을 먹고 있는디 눈떨림이 지속돼. 어떻게 해야 하꼬?\"})"
   ]
  },
  {
   "cell_type": "code",
   "execution_count": null,
   "metadata": {},
   "outputs": [],
   "source": [
    "chain.invoke({\"user_input\": \"저속노화 식단 추천해줘\"})"
   ]
  },
  {
   "cell_type": "code",
   "execution_count": null,
   "metadata": {},
   "outputs": [],
   "source": []
  }
 ],
 "metadata": {
  "kernelspec": {
   "display_name": ".venv",
   "language": "python",
   "name": "python3"
  },
  "language_info": {
   "codemirror_mode": {
    "name": "ipython",
    "version": 3
   },
   "file_extension": ".py",
   "mimetype": "text/x-python",
   "name": "python",
   "nbconvert_exporter": "python",
   "pygments_lexer": "ipython3",
   "version": "3.10.1"
  }
 },
 "nbformat": 4,
 "nbformat_minor": 2
}
